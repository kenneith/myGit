{
  "nbformat": 4,
  "nbformat_minor": 0,
  "metadata": {
    "colab": {
      "provenance": [],
      "toc_visible": true,
      "include_colab_link": true
    },
    "kernelspec": {
      "name": "python3",
      "display_name": "Python 3"
    },
    "language_info": {
      "name": "python"
    }
  },
  "cells": [
    {
      "cell_type": "markdown",
      "metadata": {
        "id": "view-in-github",
        "colab_type": "text"
      },
      "source": [
        "<a href=\"https://colab.research.google.com/github/kenneith/myGit/blob/master/tecka.ipynb\" target=\"_parent\"><img src=\"https://colab.research.google.com/assets/colab-badge.svg\" alt=\"Open In Colab\"/></a>"
      ]
    },
    {
      "cell_type": "code",
      "source": [
        "!pip install yfinance ta openpyxl"
      ],
      "metadata": {
        "colab": {
          "base_uri": "https://localhost:8080/"
        },
        "id": "0M_Tzq8kktSO",
        "outputId": "3aef9a38-8bc6-49cb-bb5a-80345e942911"
      },
      "execution_count": null,
      "outputs": [
        {
          "output_type": "stream",
          "name": "stdout",
          "text": [
            "Requirement already satisfied: yfinance in /usr/local/lib/python3.12/dist-packages (0.2.66)\n",
            "Collecting ta\n",
            "  Downloading ta-0.11.0.tar.gz (25 kB)\n",
            "  Preparing metadata (setup.py) ... \u001b[?25l\u001b[?25hdone\n",
            "Requirement already satisfied: openpyxl in /usr/local/lib/python3.12/dist-packages (3.1.5)\n",
            "Requirement already satisfied: pandas>=1.3.0 in /usr/local/lib/python3.12/dist-packages (from yfinance) (2.2.2)\n",
            "Requirement already satisfied: numpy>=1.16.5 in /usr/local/lib/python3.12/dist-packages (from yfinance) (2.0.2)\n",
            "Requirement already satisfied: requests>=2.31 in /usr/local/lib/python3.12/dist-packages (from yfinance) (2.32.4)\n",
            "Requirement already satisfied: multitasking>=0.0.7 in /usr/local/lib/python3.12/dist-packages (from yfinance) (0.0.12)\n",
            "Requirement already satisfied: platformdirs>=2.0.0 in /usr/local/lib/python3.12/dist-packages (from yfinance) (4.4.0)\n",
            "Requirement already satisfied: pytz>=2022.5 in /usr/local/lib/python3.12/dist-packages (from yfinance) (2025.2)\n",
            "Requirement already satisfied: frozendict>=2.3.4 in /usr/local/lib/python3.12/dist-packages (from yfinance) (2.4.6)\n",
            "Requirement already satisfied: peewee>=3.16.2 in /usr/local/lib/python3.12/dist-packages (from yfinance) (3.18.2)\n",
            "Requirement already satisfied: beautifulsoup4>=4.11.1 in /usr/local/lib/python3.12/dist-packages (from yfinance) (4.13.5)\n",
            "Requirement already satisfied: curl_cffi>=0.7 in /usr/local/lib/python3.12/dist-packages (from yfinance) (0.13.0)\n",
            "Requirement already satisfied: protobuf>=3.19.0 in /usr/local/lib/python3.12/dist-packages (from yfinance) (5.29.5)\n",
            "Requirement already satisfied: websockets>=13.0 in /usr/local/lib/python3.12/dist-packages (from yfinance) (15.0.1)\n",
            "Requirement already satisfied: et-xmlfile in /usr/local/lib/python3.12/dist-packages (from openpyxl) (2.0.0)\n",
            "Requirement already satisfied: soupsieve>1.2 in /usr/local/lib/python3.12/dist-packages (from beautifulsoup4>=4.11.1->yfinance) (2.8)\n",
            "Requirement already satisfied: typing-extensions>=4.0.0 in /usr/local/lib/python3.12/dist-packages (from beautifulsoup4>=4.11.1->yfinance) (4.15.0)\n",
            "Requirement already satisfied: cffi>=1.12.0 in /usr/local/lib/python3.12/dist-packages (from curl_cffi>=0.7->yfinance) (2.0.0)\n",
            "Requirement already satisfied: certifi>=2024.2.2 in /usr/local/lib/python3.12/dist-packages (from curl_cffi>=0.7->yfinance) (2025.8.3)\n",
            "Requirement already satisfied: python-dateutil>=2.8.2 in /usr/local/lib/python3.12/dist-packages (from pandas>=1.3.0->yfinance) (2.9.0.post0)\n",
            "Requirement already satisfied: tzdata>=2022.7 in /usr/local/lib/python3.12/dist-packages (from pandas>=1.3.0->yfinance) (2025.2)\n",
            "Requirement already satisfied: charset_normalizer<4,>=2 in /usr/local/lib/python3.12/dist-packages (from requests>=2.31->yfinance) (3.4.3)\n",
            "Requirement already satisfied: idna<4,>=2.5 in /usr/local/lib/python3.12/dist-packages (from requests>=2.31->yfinance) (3.10)\n",
            "Requirement already satisfied: urllib3<3,>=1.21.1 in /usr/local/lib/python3.12/dist-packages (from requests>=2.31->yfinance) (2.5.0)\n",
            "Requirement already satisfied: pycparser in /usr/local/lib/python3.12/dist-packages (from cffi>=1.12.0->curl_cffi>=0.7->yfinance) (2.23)\n",
            "Requirement already satisfied: six>=1.5 in /usr/local/lib/python3.12/dist-packages (from python-dateutil>=2.8.2->pandas>=1.3.0->yfinance) (1.17.0)\n",
            "Building wheels for collected packages: ta\n",
            "  Building wheel for ta (setup.py) ... \u001b[?25l\u001b[?25hdone\n",
            "  Created wheel for ta: filename=ta-0.11.0-py3-none-any.whl size=29412 sha256=2a5eb1ae6aa749c75ce570eace8abe782884d457ceb3e9b161b2c4c5ae9b6af1\n",
            "  Stored in directory: /root/.cache/pip/wheels/5c/a1/5f/c6b85a7d9452057be4ce68a8e45d77ba34234a6d46581777c6\n",
            "Successfully built ta\n",
            "Installing collected packages: ta\n",
            "Successfully installed ta-0.11.0\n"
          ]
        }
      ]
    },
    {
      "cell_type": "code",
      "source": [
        "from google.colab import files\n",
        "\n",
        "uploaded = files.upload()  # 上傳 stock-input.xlsx 和 tecka.txt（或其他名字）"
      ],
      "metadata": {
        "colab": {
          "base_uri": "https://localhost:8080/",
          "height": 95
        },
        "id": "Y1Uzmh9tkuZm",
        "outputId": "bd7ceeba-9248-4410-822c-8676e1b7f206"
      },
      "execution_count": null,
      "outputs": [
        {
          "output_type": "display_data",
          "data": {
            "text/plain": [
              "<IPython.core.display.HTML object>"
            ],
            "text/html": [
              "\n",
              "     <input type=\"file\" id=\"files-eafe53e7-b055-4bd6-b869-4f85a2e4af30\" name=\"files[]\" multiple disabled\n",
              "        style=\"border:none\" />\n",
              "     <output id=\"result-eafe53e7-b055-4bd6-b869-4f85a2e4af30\">\n",
              "      Upload widget is only available when the cell has been executed in the\n",
              "      current browser session. Please rerun this cell to enable.\n",
              "      </output>\n",
              "      <script>// Copyright 2017 Google LLC\n",
              "//\n",
              "// Licensed under the Apache License, Version 2.0 (the \"License\");\n",
              "// you may not use this file except in compliance with the License.\n",
              "// You may obtain a copy of the License at\n",
              "//\n",
              "//      http://www.apache.org/licenses/LICENSE-2.0\n",
              "//\n",
              "// Unless required by applicable law or agreed to in writing, software\n",
              "// distributed under the License is distributed on an \"AS IS\" BASIS,\n",
              "// WITHOUT WARRANTIES OR CONDITIONS OF ANY KIND, either express or implied.\n",
              "// See the License for the specific language governing permissions and\n",
              "// limitations under the License.\n",
              "\n",
              "/**\n",
              " * @fileoverview Helpers for google.colab Python module.\n",
              " */\n",
              "(function(scope) {\n",
              "function span(text, styleAttributes = {}) {\n",
              "  const element = document.createElement('span');\n",
              "  element.textContent = text;\n",
              "  for (const key of Object.keys(styleAttributes)) {\n",
              "    element.style[key] = styleAttributes[key];\n",
              "  }\n",
              "  return element;\n",
              "}\n",
              "\n",
              "// Max number of bytes which will be uploaded at a time.\n",
              "const MAX_PAYLOAD_SIZE = 100 * 1024;\n",
              "\n",
              "function _uploadFiles(inputId, outputId) {\n",
              "  const steps = uploadFilesStep(inputId, outputId);\n",
              "  const outputElement = document.getElementById(outputId);\n",
              "  // Cache steps on the outputElement to make it available for the next call\n",
              "  // to uploadFilesContinue from Python.\n",
              "  outputElement.steps = steps;\n",
              "\n",
              "  return _uploadFilesContinue(outputId);\n",
              "}\n",
              "\n",
              "// This is roughly an async generator (not supported in the browser yet),\n",
              "// where there are multiple asynchronous steps and the Python side is going\n",
              "// to poll for completion of each step.\n",
              "// This uses a Promise to block the python side on completion of each step,\n",
              "// then passes the result of the previous step as the input to the next step.\n",
              "function _uploadFilesContinue(outputId) {\n",
              "  const outputElement = document.getElementById(outputId);\n",
              "  const steps = outputElement.steps;\n",
              "\n",
              "  const next = steps.next(outputElement.lastPromiseValue);\n",
              "  return Promise.resolve(next.value.promise).then((value) => {\n",
              "    // Cache the last promise value to make it available to the next\n",
              "    // step of the generator.\n",
              "    outputElement.lastPromiseValue = value;\n",
              "    return next.value.response;\n",
              "  });\n",
              "}\n",
              "\n",
              "/**\n",
              " * Generator function which is called between each async step of the upload\n",
              " * process.\n",
              " * @param {string} inputId Element ID of the input file picker element.\n",
              " * @param {string} outputId Element ID of the output display.\n",
              " * @return {!Iterable<!Object>} Iterable of next steps.\n",
              " */\n",
              "function* uploadFilesStep(inputId, outputId) {\n",
              "  const inputElement = document.getElementById(inputId);\n",
              "  inputElement.disabled = false;\n",
              "\n",
              "  const outputElement = document.getElementById(outputId);\n",
              "  outputElement.innerHTML = '';\n",
              "\n",
              "  const pickedPromise = new Promise((resolve) => {\n",
              "    inputElement.addEventListener('change', (e) => {\n",
              "      resolve(e.target.files);\n",
              "    });\n",
              "  });\n",
              "\n",
              "  const cancel = document.createElement('button');\n",
              "  inputElement.parentElement.appendChild(cancel);\n",
              "  cancel.textContent = 'Cancel upload';\n",
              "  const cancelPromise = new Promise((resolve) => {\n",
              "    cancel.onclick = () => {\n",
              "      resolve(null);\n",
              "    };\n",
              "  });\n",
              "\n",
              "  // Wait for the user to pick the files.\n",
              "  const files = yield {\n",
              "    promise: Promise.race([pickedPromise, cancelPromise]),\n",
              "    response: {\n",
              "      action: 'starting',\n",
              "    }\n",
              "  };\n",
              "\n",
              "  cancel.remove();\n",
              "\n",
              "  // Disable the input element since further picks are not allowed.\n",
              "  inputElement.disabled = true;\n",
              "\n",
              "  if (!files) {\n",
              "    return {\n",
              "      response: {\n",
              "        action: 'complete',\n",
              "      }\n",
              "    };\n",
              "  }\n",
              "\n",
              "  for (const file of files) {\n",
              "    const li = document.createElement('li');\n",
              "    li.append(span(file.name, {fontWeight: 'bold'}));\n",
              "    li.append(span(\n",
              "        `(${file.type || 'n/a'}) - ${file.size} bytes, ` +\n",
              "        `last modified: ${\n",
              "            file.lastModifiedDate ? file.lastModifiedDate.toLocaleDateString() :\n",
              "                                    'n/a'} - `));\n",
              "    const percent = span('0% done');\n",
              "    li.appendChild(percent);\n",
              "\n",
              "    outputElement.appendChild(li);\n",
              "\n",
              "    const fileDataPromise = new Promise((resolve) => {\n",
              "      const reader = new FileReader();\n",
              "      reader.onload = (e) => {\n",
              "        resolve(e.target.result);\n",
              "      };\n",
              "      reader.readAsArrayBuffer(file);\n",
              "    });\n",
              "    // Wait for the data to be ready.\n",
              "    let fileData = yield {\n",
              "      promise: fileDataPromise,\n",
              "      response: {\n",
              "        action: 'continue',\n",
              "      }\n",
              "    };\n",
              "\n",
              "    // Use a chunked sending to avoid message size limits. See b/62115660.\n",
              "    let position = 0;\n",
              "    do {\n",
              "      const length = Math.min(fileData.byteLength - position, MAX_PAYLOAD_SIZE);\n",
              "      const chunk = new Uint8Array(fileData, position, length);\n",
              "      position += length;\n",
              "\n",
              "      const base64 = btoa(String.fromCharCode.apply(null, chunk));\n",
              "      yield {\n",
              "        response: {\n",
              "          action: 'append',\n",
              "          file: file.name,\n",
              "          data: base64,\n",
              "        },\n",
              "      };\n",
              "\n",
              "      let percentDone = fileData.byteLength === 0 ?\n",
              "          100 :\n",
              "          Math.round((position / fileData.byteLength) * 100);\n",
              "      percent.textContent = `${percentDone}% done`;\n",
              "\n",
              "    } while (position < fileData.byteLength);\n",
              "  }\n",
              "\n",
              "  // All done.\n",
              "  yield {\n",
              "    response: {\n",
              "      action: 'complete',\n",
              "    }\n",
              "  };\n",
              "}\n",
              "\n",
              "scope.google = scope.google || {};\n",
              "scope.google.colab = scope.google.colab || {};\n",
              "scope.google.colab._files = {\n",
              "  _uploadFiles,\n",
              "  _uploadFilesContinue,\n",
              "};\n",
              "})(self);\n",
              "</script> "
            ]
          },
          "metadata": {}
        },
        {
          "output_type": "stream",
          "name": "stdout",
          "text": [
            "Saving stock-input.xlsx to stock-input.xlsx\n"
          ]
        }
      ]
    },
    {
      "cell_type": "code",
      "source": [
        "import os\n",
        "os.listdir(\".\")  # 確認 stock-input.xlsx 存在"
      ],
      "metadata": {
        "colab": {
          "base_uri": "https://localhost:8080/"
        },
        "id": "OJTAgwYukv-4",
        "outputId": "5efcdb3f-4ef7-4964-a68f-db2085061488"
      },
      "execution_count": null,
      "outputs": [
        {
          "output_type": "execute_result",
          "data": {
            "text/plain": [
              "['.config', 'stock-input.xlsx', 'sample_data']"
            ]
          },
          "metadata": {},
          "execution_count": 5
        }
      ]
    },
    {
      "cell_type": "code",
      "source": [
        "# -*- coding: utf-8 -*-\n",
        "\"\"\"\n",
        "tecka.py - 台股月線技術分析系統（依資料長度分級處理）\n",
        "功能：\n",
        "- 資料 <24個月：僅顯示收盤價與月份數，其他指標為「不適用」\n",
        "- 24~60個月：除 MACD 外，其他指標正常計算\n",
        "- >=60個月：全部指標計算\n",
        "- 匯出至 tecka-output.xlsx\n",
        "\"\"\"\n",
        "\n",
        "import yfinance as yf\n",
        "import pandas as pd\n",
        "\n",
        "# 導入 ta 套件\n",
        "from ta.trend import SMAIndicator, MACD\n",
        "from ta.momentum import RSIIndicator, StochasticOscillator, WilliamsRIndicator\n",
        "from ta.volatility import BollingerBands\n",
        "from ta.volume import OnBalanceVolumeIndicator\n",
        "\n",
        "\n",
        "# -----------------------------\n",
        "# 設定檔案路徑\n",
        "# -----------------------------\n",
        "input_file = 'stock-input.xlsx'\n",
        "output_file = 'tecka-output.xlsx'\n",
        "\n",
        "\n",
        "# -----------------------------\n",
        "# Step 1: 讀取第一個且唯一的 Sheet\n",
        "# -----------------------------\n",
        "try:\n",
        "    excel_file = pd.ExcelFile(input_file)\n",
        "    sheet_name = excel_file.sheet_names[0]\n",
        "    print(f\"📁 檢測到工作表：{sheet_name}\")\n",
        "\n",
        "    stock_df = pd.read_excel(input_file, sheet_name=sheet_name)\n",
        "    stock_df.columns = stock_df.columns.str.strip()\n",
        "\n",
        "    required_cols = ['上市櫃', '股票代號', '股票簡稱']\n",
        "    missing_cols = [col for col in required_cols if col not in stock_df.columns]\n",
        "    if missing_cols:\n",
        "        raise ValueError(f\"❌ 缺少必要欄位：{missing_cols}\")\n",
        "except FileNotFoundError:\n",
        "    raise FileNotFoundError(f\"❌ 找不到 '{input_file}'\")\n",
        "except Exception as e:\n",
        "    raise Exception(f\"❌ 讀取 Excel 錯誤：{str(e)}\")\n",
        "\n",
        "\n",
        "# -----------------------------\n",
        "# 初始化結果清單\n",
        "# -----------------------------\n",
        "results = []\n",
        "\n",
        "\n",
        "# -----------------------------\n",
        "# 迴圈處理每一檔股票\n",
        "# -----------------------------\n",
        "for _, row in stock_df.iterrows():\n",
        "    try:\n",
        "        market_str = str(row['上市櫃']).strip()\n",
        "        code = str(row['股票代號']).strip()\n",
        "        name = str(row['股票簡稱']).strip()\n",
        "\n",
        "        # 判斷後綴\n",
        "        if market_str == '上市':\n",
        "            suffix = '.TW'\n",
        "        elif market_str == '上櫃':\n",
        "            suffix = '.TWO'\n",
        "        else:\n",
        "            print(f\"⚠️ 無效市場別跳過：{code}({name}) -> '{market_str}'\")\n",
        "            continue\n",
        "\n",
        "        ticker = f\"{code}{suffix}\"\n",
        "        print(f\"🔍 分析中：{ticker} ({name})\")\n",
        "\n",
        "        # 下載月線資料\n",
        "        data = yf.download(ticker, interval='1mo', period='5y', auto_adjust=False)\n",
        "        if data.empty:\n",
        "            print(f\"⚠️ 資料為空：{ticker}\")\n",
        "            result = {\n",
        "                '市場別': market_str,\n",
        "                '股票代號': code,\n",
        "                '股票簡稱': name,\n",
        "                '最新收盤': '不適用',\n",
        "                '月資料長度': 0,\n",
        "            }\n",
        "            indicators = ['MA', 'KD', 'MACD', 'RSI', 'PSY', 'BIAS', 'W%R', '布林通道', 'OBV']\n",
        "            for ind in indicators:\n",
        "                result[f'{ind}_數值'] = '不適用'\n",
        "                result[f'{ind}_分析'] = '不適用'\n",
        "            results.append(result)\n",
        "            continue\n",
        "\n",
        "        # 確保為一維\n",
        "        df_raw = pd.DataFrame({\n",
        "            'Open':   data['Open'].squeeze(),\n",
        "            'High':   data['High'].squeeze(),\n",
        "            'Low':    data['Low'].squeeze(),\n",
        "            'Close':  data['Close'].squeeze(),\n",
        "            'Volume': data['Volume'].squeeze(),\n",
        "        }).dropna()\n",
        "\n",
        "        n_months_raw = len(df_raw)\n",
        "\n",
        "        # 取得最新收盤價（永遠保留）\n",
        "        latest_close = df_raw['Close'].iloc[-1] if len(df_raw) > 0 else '不適用'\n",
        "\n",
        "        # ✅ 情況 1：原始資料 < 24 個月 → 僅保留收盤價與月數\n",
        "        if n_months_raw < 24:\n",
        "            print(f\"🟡 數據長度不足，只有 {n_months_raw} 個月：{code}\")\n",
        "            result = {\n",
        "                '市場別': market_str,\n",
        "                '股票代號': code,\n",
        "                '股票簡稱': name,\n",
        "                '最新收盤': round(latest_close, 2),\n",
        "                '月資料長度': n_months_raw,\n",
        "            }\n",
        "            indicators = ['MA', 'KD', 'MACD', 'RSI', 'PSY', 'BIAS', 'W%R', '布林通道', 'OBV']\n",
        "            for ind in indicators:\n",
        "                result[f'{ind}_數值'] = '不適用'\n",
        "                result[f'{ind}_分析'] = '不適用'\n",
        "            results.append(result)\n",
        "            continue\n",
        "\n",
        "        # -----------------------------\n",
        "        # 資料 >=24 個月 → 開始計算指標\n",
        "        # -----------------------------\n",
        "        df = df_raw.copy()\n",
        "\n",
        "        # MA (5,10,20)\n",
        "        for w in [5, 10, 20]:\n",
        "            df[f'MA_{w}'] = df['Close'].rolling(w).mean()\n",
        "\n",
        "        # KD\n",
        "        stoch = StochasticOscillator(high=df['High'], low=df['Low'], close=df['Close'], window=14, smooth_window=3)\n",
        "        df['%K'] = stoch.stoch()\n",
        "        df['%D'] = stoch.stoch_signal()\n",
        "\n",
        "        # MACD（需要至少 35 個月才可靠）\n",
        "        macd_val, macd_signal = None, None\n",
        "        if n_months_raw >= 35:\n",
        "            macd = MACD(close=df['Close'], window_fast=12, window_slow=26, window_sign=9)\n",
        "            df['MACD'] = macd.macd()\n",
        "            df['MACD_signal'] = macd.macd_signal()\n",
        "            macd_val = df['MACD'].iloc[-1]\n",
        "            macd_signal = df['MACD_signal'].iloc[-1]\n",
        "\n",
        "        # RSI\n",
        "        rsi = RSIIndicator(close=df['Close'], window=14)\n",
        "        df['RSI'] = rsi.rsi()\n",
        "\n",
        "        # W%R\n",
        "        wr = WilliamsRIndicator(high=df['High'], low=df['Low'], close=df['Close'], lbp=14)\n",
        "        df['W%R'] = wr.williams_r()\n",
        "\n",
        "        # 布林通道\n",
        "        bb = BollingerBands(close=df['Close'], window=20, window_dev=2)\n",
        "        df['BB_upper'] = bb.bollinger_hband()\n",
        "        df['BB_lower'] = bb.bollinger_lband()\n",
        "        df['BB_middle'] = bb.bollinger_mavg()\n",
        "\n",
        "        # OBV\n",
        "        obv = OnBalanceVolumeIndicator(close=df['Close'], volume=df['Volume'])\n",
        "        df['OBV'] = obv.on_balance_volume()\n",
        "\n",
        "        # PSY (12個月)\n",
        "        df['PSY_12'] = (df['Close'].diff() > 0).rolling(12).mean() * 100\n",
        "\n",
        "        # BIAS (10個月)\n",
        "        df['MA_10'] = df['Close'].rolling(10).mean()\n",
        "        df['BIAS_10'] = (df['Close'] - df['MA_10']) / df['MA_10'] * 100\n",
        "\n",
        "        # 再次 dropna\n",
        "        df_clean = df.dropna()\n",
        "        if len(df_clean) < 1:\n",
        "            print(f\"⚠️ 計算後無有效數據，只有 {n_months_raw} 個月：{code}\")\n",
        "            result = {\n",
        "                '市場別': market_str,\n",
        "                '股票代號': code,\n",
        "                '股票簡稱': name,\n",
        "                '最新收盤': round(latest_close, 2),\n",
        "                '月資料長度': n_months_raw,\n",
        "            }\n",
        "            indicators = ['MA', 'KD', 'MACD', 'RSI', 'PSY', 'BIAS', 'W%R', '布林通道', 'OBV']\n",
        "            for ind in indicators:\n",
        "                result[f'{ind}_數值'] = '不適用'\n",
        "                result[f'{ind}_分析'] = '不適用'\n",
        "            results.append(result)\n",
        "            continue\n",
        "\n",
        "        # 取最後一筆有效資料\n",
        "        latest = df_clean.iloc[-1]\n",
        "        prev = df_clean.iloc[-2] if len(df_clean) >= 2 else df_clean.iloc[-1]\n",
        "\n",
        "        # 實際取得月份數（上限60）\n",
        "        n_months = min(n_months_raw, 60)\n",
        "\n",
        "        # -----------------------------\n",
        "        # 提取各指標數值\n",
        "        # -----------------------------\n",
        "        ma5, ma10, ma20 = latest.get('MA_5'), latest.get('MA_10'), latest.get('MA_20')\n",
        "        k_val, d_val = latest.get('%K'), latest.get('%D')\n",
        "        rsi_val = latest.get('RSI')\n",
        "        wr_val = latest.get('W%R')\n",
        "        bb_upper, bb_middle, bb_lower = latest.get('BB_upper'), latest.get('BB_middle'), latest.get('BB_lower')\n",
        "        obv_val = latest.get('OBV')\n",
        "        psy_val = latest.get('PSY_12')\n",
        "        bias_val = latest.get('BIAS_10')\n",
        "\n",
        "        # -----------------------------\n",
        "        # 各指標趨勢判斷（偏多 / 偏空 / 中性）\n",
        "        # -----------------------------\n",
        "\n",
        "        def safe_trend(cond, fallback):\n",
        "            return \"偏多\" if cond else (\"偏空\" if fallback else \"中性\")\n",
        "\n",
        "        result = {\n",
        "            '市場別': market_str,\n",
        "            '股票代號': code,\n",
        "            '股票簡稱': name,\n",
        "            '最新收盤': round(latest_close, 2),\n",
        "            '月資料長度': n_months,\n",
        "\n",
        "            # MA\n",
        "            'MA_數值': f\"MA5={ma5:.2f}, MA10={ma10:.2f}, MA20={ma20:.2f}\" if all(pd.notna([ma5, ma10, ma20])) else '不適用',\n",
        "            'MA_分析': safe_trend(\n",
        "                cond=(ma5 > ma10 > ma20 and ma5 > prev['MA_5'] and ma10 > prev['MA_10']),\n",
        "                fallback=(ma5 < ma10 < ma20 and ma5 < prev['MA_5'] and ma10 < prev['MA_10'])\n",
        "            ) if all(pd.notna([ma5, ma10, ma20])) else '不適用',\n",
        "\n",
        "            # KD\n",
        "            'KD_數值': f\"%K={k_val:.2f}, %D={d_val:.2f}\" if pd.notna(k_val) and pd.notna(d_val) else '不適用',\n",
        "            'KD_分析': safe_trend(\n",
        "                cond=(k_val > d_val and k_val > 50),\n",
        "                fallback=(k_val < d_val and k_val < 50)\n",
        "            ) if pd.notna(k_val) and pd.notna(d_val) else '不適用',\n",
        "\n",
        "            # MACD（僅當 n_months_raw >= 35 時才計算）\n",
        "            'MACD_數值': f\"DIF={macd_val:.2f}, DEM={macd_signal:.2f}\" if n_months_raw >= 35 else '不適用',\n",
        "            'MACD_分析': safe_trend(\n",
        "                cond=(macd_val > macd_signal and macd_val > 0),\n",
        "                fallback=(macd_val < macd_signal and macd_val < 0)\n",
        "            ) if n_months_raw >= 35 else '不適用',\n",
        "\n",
        "            # RSI\n",
        "            'RSI_數值': f\"{rsi_val:.2f}\" if pd.notna(rsi_val) else '不適用',\n",
        "            'RSI_分析': safe_trend(\n",
        "                cond=(55 <= rsi_val <= 70),\n",
        "                fallback=(30 <= rsi_val <= 45)\n",
        "            ) if pd.notna(rsi_val) else '不適用',\n",
        "\n",
        "            # PSY\n",
        "            'PSY_數值': f\"{psy_val:.2f}%\" if pd.notna(psy_val) else '不適用',\n",
        "            'PSY_分析': safe_trend(\n",
        "                cond=(55 <= psy_val <= 75),\n",
        "                fallback=(25 <= psy_val <= 45)\n",
        "            ) if pd.notna(psy_val) else '不適用',\n",
        "\n",
        "            # BIAS\n",
        "            'BIAS_數值': f\"{bias_val:+.2f}%\" if pd.notna(bias_val) else '不適用',\n",
        "            'BIAS_分析': safe_trend(\n",
        "                cond=(3 <= bias_val <= 6),\n",
        "                fallback=(-6 <= bias_val <= -3)\n",
        "            ) if pd.notna(bias_val) else '不適用',\n",
        "\n",
        "            # W%R\n",
        "            'W%R_數值': f\"{wr_val:.2f}\" if pd.notna(wr_val) else '不適用',\n",
        "            'W%R_分析': safe_trend(\n",
        "                cond=(-80 <= wr_val <= -100),\n",
        "                fallback=(-0 >= wr_val > -20)\n",
        "            ) if pd.notna(wr_val) else '不適用',\n",
        "\n",
        "            # 布林通道\n",
        "            '布林通道_數值': f\"上:{bb_upper:.2f}, 中:{bb_middle:.2f}, 下:{bb_lower:.2f}\" if all(pd.notna([bb_upper, bb_middle, bb_lower])) else '不適用',\n",
        "            '布林通道_分析': safe_trend(\n",
        "                cond=(latest['Close'] > bb_middle and latest['Close'] < bb_upper * 0.95),\n",
        "                fallback=(latest['Close'] < bb_middle and latest['Close'] > bb_lower * 1.05)\n",
        "            ) if all(pd.notna([bb_upper, bb_middle, bb_lower])) else '不適用',\n",
        "\n",
        "            # OBV\n",
        "            'OBV_數值': f\"{obv_val:,.0f}\" if pd.notna(obv_val) else '不適用',\n",
        "            'OBV_分析': (\n",
        "                \"偏多\" if len(df['OBV'].dropna()) >= 3 and df['OBV'].dropna().tail(3).iloc[-1] > df['OBV'].dropna().tail(3).iloc[-2] > df['OBV'].dropna().tail(3).iloc[-3] else\n",
        "                \"偏空\" if len(df['OBV'].dropna()) >= 3 and df['OBV'].dropna().tail(3).iloc[-1] < df['OBV'].dropna().tail(3).iloc[-2] < df['OBV'].dropna().tail(3).iloc[-3] else\n",
        "                \"中性\"\n",
        "            ) if pd.notna(obv_val) else '不適用',\n",
        "        }\n",
        "\n",
        "        results.append(result)\n",
        "\n",
        "    except Exception as e:\n",
        "        print(f\"❌ 分析失敗 {code}({name}): {str(e)}\")\n",
        "        result = {\n",
        "            '市場別': market_str,\n",
        "            '股票代號': code,\n",
        "            '股票簡稱': name,\n",
        "            '最新收盤': '無法取得' if 'latest_close' not in locals() else round(latest_close, 2),\n",
        "            '月資料長度': n_months_raw if 'n_months_raw' in locals() else 0,\n",
        "        }\n",
        "        for ind in ['MA', 'KD', 'MACD', 'RSI', 'PSY', 'BIAS', 'W%R', '布林通道', 'OBV']:\n",
        "            result[f'{ind}_數值'] = '不適用'\n",
        "            result[f'{ind}_分析'] = '不適用'\n",
        "        results.append(result)\n",
        "\n",
        "\n",
        "# -----------------------------\n",
        "# Step 2: 匯出結果至 Excel\n",
        "# -----------------------------\n",
        "if results:\n",
        "    output_df = pd.DataFrame(results)\n",
        "\n",
        "    # 計算偏多/偏空計數（跳過「不適用」）\n",
        "    analysis_cols = [\n",
        "        'MA_分析', 'KD_分析', 'MACD_分析',\n",
        "        'RSI_分析', 'PSY_分析', 'BIAS_分析',\n",
        "        'W%R_分析', '布林通道_分析', 'OBV_分析'\n",
        "    ]\n",
        "    output_df['偏多計數'] = output_df[analysis_cols].apply(\n",
        "        lambda x: (x == \"偏多\").sum() if any(v != \"不適用\" for v in x) else \"不適用\", axis=1)\n",
        "    output_df['偏空計數'] = output_df[analysis_cols].apply(\n",
        "        lambda x: (x == \"偏空\").sum() if any(v != \"不適用\" for v in x) else \"不適用\", axis=1)\n",
        "\n",
        "    def overall_trend(row):\n",
        "        if row['偏多計數'] == \"不適用\":\n",
        "            return \"不適用\"\n",
        "        try:\n",
        "            pos = int(row['偏多計數'])\n",
        "            neg = int(row['偏空計數'])\n",
        "            if pos >= 6:\n",
        "                return \"強勢偏多\"\n",
        "            elif neg >= 6:\n",
        "                return \"明顯偏空\"\n",
        "            elif pos > neg:\n",
        "                return \"整體偏多\"\n",
        "            elif neg > pos:\n",
        "                return \"整體偏空\"\n",
        "            else:\n",
        "                return \"多空平衡\"\n",
        "        except:\n",
        "            return \"不適用\"\n",
        "\n",
        "    output_df['綜合判斷'] = output_df.apply(overall_trend, axis=1)\n",
        "\n",
        "    # 調整欄位順序\n",
        "    cols = [\n",
        "        '市場別', '股票代號', '股票簡稱', '最新收盤', '月資料長度',\n",
        "        '偏多計數', '偏空計數', '綜合判斷',\n",
        "        'MA_數值', 'MA_分析',\n",
        "        'KD_數值', 'KD_分析',\n",
        "        'MACD_數值', 'MACD_分析',\n",
        "        'RSI_數值', 'RSI_分析',\n",
        "        'PSY_數值', 'PSY_分析',\n",
        "        'BIAS_數值', 'BIAS_分析',\n",
        "        'W%R_數值', 'W%R_分析',\n",
        "        '布林通道_數值', '布林通道_分析',\n",
        "        'OBV_數值', 'OBV_分析'\n",
        "    ]\n",
        "    output_df = output_df[cols]\n",
        "\n",
        "    # 匯出 Excel\n",
        "    with pd.ExcelWriter(output_file, engine='openpyxl') as writer:\n",
        "        output_df.to_excel(writer, index=False, sheet_name='技術分析報告')\n",
        "\n",
        "    print(f\"\\n✅ 成功分析 {len(results)} 檔股票，結果已匯出至 '{output_file}'\")\n",
        "else:\n",
        "    print(\"⚠️ 無任何有效分析結果\")"
      ],
      "metadata": {
        "colab": {
          "base_uri": "https://localhost:8080/"
        },
        "id": "HHVXeLDyk0x2",
        "outputId": "fa2f3931-4620-42f4-b2db-c8c312e73d2a"
      },
      "execution_count": null,
      "outputs": [
        {
          "output_type": "stream",
          "name": "stdout",
          "text": [
            "📁 檢測到工作表：Sheet1\n",
            "🔍 分析中：2476.TW (鉅祥)\n"
          ]
        },
        {
          "output_type": "stream",
          "name": "stderr",
          "text": [
            "\r[*********************100%***********************]  1 of 1 completed\n"
          ]
        },
        {
          "output_type": "stream",
          "name": "stdout",
          "text": [
            "🔍 分析中：3622.TW (洋華)\n"
          ]
        },
        {
          "output_type": "stream",
          "name": "stderr",
          "text": [
            "\r[*********************100%***********************]  1 of 1 completed\n"
          ]
        },
        {
          "output_type": "stream",
          "name": "stdout",
          "text": [
            "🔍 分析中：5471.TW (松翰)\n"
          ]
        },
        {
          "output_type": "stream",
          "name": "stderr",
          "text": [
            "\r[*********************100%***********************]  1 of 1 completed\n"
          ]
        },
        {
          "output_type": "stream",
          "name": "stdout",
          "text": [
            "🔍 分析中：6196.TW (帆宣)\n"
          ]
        },
        {
          "output_type": "stream",
          "name": "stderr",
          "text": [
            "\r[*********************100%***********************]  1 of 1 completed\n"
          ]
        },
        {
          "output_type": "stream",
          "name": "stdout",
          "text": [
            "🔍 分析中：8271.TW (宇瞻)\n"
          ]
        },
        {
          "output_type": "stream",
          "name": "stderr",
          "text": [
            "\r[*********************100%***********************]  1 of 1 completed\n"
          ]
        },
        {
          "output_type": "stream",
          "name": "stdout",
          "text": [
            "🔍 分析中：3376.TW (新日興)\n"
          ]
        },
        {
          "output_type": "stream",
          "name": "stderr",
          "text": [
            "\r[*********************100%***********************]  1 of 1 completed\n"
          ]
        },
        {
          "output_type": "stream",
          "name": "stdout",
          "text": [
            "🔍 分析中：8210.TW (勤誠)\n"
          ]
        },
        {
          "output_type": "stream",
          "name": "stderr",
          "text": [
            "\r[*********************100%***********************]  1 of 1 completed\n"
          ]
        },
        {
          "output_type": "stream",
          "name": "stdout",
          "text": [
            "🔍 分析中：5314.TWO (世紀*)\n"
          ]
        },
        {
          "output_type": "stream",
          "name": "stderr",
          "text": [
            "\r[*********************100%***********************]  1 of 1 completed\n"
          ]
        },
        {
          "output_type": "stream",
          "name": "stdout",
          "text": [
            "🔍 分析中：3293.TWO (鈊象)\n"
          ]
        },
        {
          "output_type": "stream",
          "name": "stderr",
          "text": [
            "\r[*********************100%***********************]  1 of 1 completed\n"
          ]
        },
        {
          "output_type": "stream",
          "name": "stdout",
          "text": [
            "🔍 分析中：2308.TW (台達電)\n"
          ]
        },
        {
          "output_type": "stream",
          "name": "stderr",
          "text": [
            "\r[*********************100%***********************]  1 of 1 completed\n"
          ]
        },
        {
          "output_type": "stream",
          "name": "stdout",
          "text": [
            "🔍 分析中：2330.TW (台積電)\n"
          ]
        },
        {
          "output_type": "stream",
          "name": "stderr",
          "text": [
            "\r[*********************100%***********************]  1 of 1 completed\n"
          ]
        },
        {
          "output_type": "stream",
          "name": "stdout",
          "text": [
            "🔍 分析中：2059.TW (川湖)\n"
          ]
        },
        {
          "output_type": "stream",
          "name": "stderr",
          "text": [
            "\r[*********************100%***********************]  1 of 1 completed\n"
          ]
        },
        {
          "output_type": "stream",
          "name": "stdout",
          "text": [
            "🔍 分析中：2327.TW (國巨*)\n"
          ]
        },
        {
          "output_type": "stream",
          "name": "stderr",
          "text": [
            "\r[*********************100%***********************]  1 of 1 completed\n"
          ]
        },
        {
          "output_type": "stream",
          "name": "stdout",
          "text": [
            "🔍 分析中：5269.TW (祥碩)\n"
          ]
        },
        {
          "output_type": "stream",
          "name": "stderr",
          "text": [
            "\r[*********************100%***********************]  1 of 1 completed\n"
          ]
        },
        {
          "output_type": "stream",
          "name": "stdout",
          "text": [
            "🔍 分析中：2395.TW (研華)\n"
          ]
        },
        {
          "output_type": "stream",
          "name": "stderr",
          "text": [
            "\r[*********************100%***********************]  1 of 1 completed\n"
          ]
        },
        {
          "output_type": "stream",
          "name": "stdout",
          "text": [
            "🔍 分析中：6223.TWO (旺矽)\n"
          ]
        },
        {
          "output_type": "stream",
          "name": "stderr",
          "text": [
            "\r[*********************100%***********************]  1 of 1 completed\n"
          ]
        },
        {
          "output_type": "stream",
          "name": "stdout",
          "text": [
            "🔍 分析中：6515.TW (穎崴)\n"
          ]
        },
        {
          "output_type": "stream",
          "name": "stderr",
          "text": [
            "\r[*********************100%***********************]  1 of 1 completed\n"
          ]
        },
        {
          "output_type": "stream",
          "name": "stdout",
          "text": [
            "🔍 分析中：2317.TW (鴻海)\n"
          ]
        },
        {
          "output_type": "stream",
          "name": "stderr",
          "text": [
            "\r[*********************100%***********************]  1 of 1 completed\n"
          ]
        },
        {
          "output_type": "stream",
          "name": "stdout",
          "text": [
            "🔍 分析中：2357.TW (華碩)\n"
          ]
        },
        {
          "output_type": "stream",
          "name": "stderr",
          "text": [
            "\r[*********************100%***********************]  1 of 1 completed\n"
          ]
        },
        {
          "output_type": "stream",
          "name": "stdout",
          "text": [
            "🔍 分析中：2449.TW (京元電子)\n"
          ]
        },
        {
          "output_type": "stream",
          "name": "stderr",
          "text": [
            "\r[*********************100%***********************]  1 of 1 completed\n"
          ]
        },
        {
          "output_type": "stream",
          "name": "stdout",
          "text": [
            "🔍 分析中：3260.TWO (威剛)\n"
          ]
        },
        {
          "output_type": "stream",
          "name": "stderr",
          "text": [
            "\r[*********************100%***********************]  1 of 1 completed\n"
          ]
        },
        {
          "output_type": "stream",
          "name": "stdout",
          "text": [
            "🔍 分析中：6922.TWO (宸曜)\n"
          ]
        },
        {
          "output_type": "stream",
          "name": "stderr",
          "text": [
            "\r[*********************100%***********************]  1 of 1 completed\n"
          ]
        },
        {
          "output_type": "stream",
          "name": "stdout",
          "text": [
            "🔍 分析中：6957.TW (裕慶-KY)\n"
          ]
        },
        {
          "output_type": "stream",
          "name": "stderr",
          "text": [
            "\r[*********************100%***********************]  1 of 1 completed\n"
          ]
        },
        {
          "output_type": "stream",
          "name": "stdout",
          "text": [
            "🟡 數據長度不足，只有 16 個月：6957\n",
            "🔍 分析中：8358.TWO (金居)\n"
          ]
        },
        {
          "output_type": "stream",
          "name": "stderr",
          "text": [
            "\r[*********************100%***********************]  1 of 1 completed\n"
          ]
        },
        {
          "output_type": "stream",
          "name": "stdout",
          "text": [
            "🔍 分析中：3709.TWO (鑫聯大投控)\n"
          ]
        },
        {
          "output_type": "stream",
          "name": "stderr",
          "text": [
            "\r[*********************100%***********************]  1 of 1 completed\n"
          ]
        },
        {
          "output_type": "stream",
          "name": "stdout",
          "text": [
            "🔍 分析中：1786.TW (科妍)\n"
          ]
        },
        {
          "output_type": "stream",
          "name": "stderr",
          "text": [
            "\r[*********************100%***********************]  1 of 1 completed\n"
          ]
        },
        {
          "output_type": "stream",
          "name": "stdout",
          "text": [
            "🔍 分析中：1776.TW (展宇)\n"
          ]
        },
        {
          "output_type": "stream",
          "name": "stderr",
          "text": [
            "\r[*********************100%***********************]  1 of 1 completed\n"
          ]
        },
        {
          "output_type": "stream",
          "name": "stdout",
          "text": [
            "🔍 分析中：6216.TW (居易)\n"
          ]
        },
        {
          "output_type": "stream",
          "name": "stderr",
          "text": [
            "\r[*********************100%***********************]  1 of 1 completed\n"
          ]
        },
        {
          "output_type": "stream",
          "name": "stdout",
          "text": [
            "🔍 分析中：2611.TW (志信)\n"
          ]
        },
        {
          "output_type": "stream",
          "name": "stderr",
          "text": [
            "\r[*********************100%***********************]  1 of 1 completed\n"
          ]
        },
        {
          "output_type": "stream",
          "name": "stdout",
          "text": [
            "🔍 分析中：2451.TW (創見)\n"
          ]
        },
        {
          "output_type": "stream",
          "name": "stderr",
          "text": [
            "\r[*********************100%***********************]  1 of 1 completed\n"
          ]
        },
        {
          "output_type": "stream",
          "name": "stdout",
          "text": [
            "🔍 分析中：4942.TW (嘉彰)\n"
          ]
        },
        {
          "output_type": "stream",
          "name": "stderr",
          "text": [
            "\r[*********************100%***********************]  1 of 1 completed\n"
          ]
        },
        {
          "output_type": "stream",
          "name": "stdout",
          "text": [
            "🔍 分析中：3570.TWO (大塚)\n"
          ]
        },
        {
          "output_type": "stream",
          "name": "stderr",
          "text": [
            "\r[*********************100%***********************]  1 of 1 completed\n"
          ]
        },
        {
          "output_type": "stream",
          "name": "stdout",
          "text": [
            "🔍 分析中：3010.TW (華立)\n"
          ]
        },
        {
          "output_type": "stream",
          "name": "stderr",
          "text": [
            "\r[*********************100%***********************]  1 of 1 completed\n"
          ]
        },
        {
          "output_type": "stream",
          "name": "stdout",
          "text": [
            "🔍 分析中：4916.TW (事欣科)\n"
          ]
        },
        {
          "output_type": "stream",
          "name": "stderr",
          "text": [
            "\r[*********************100%***********************]  1 of 1 completed\n"
          ]
        },
        {
          "output_type": "stream",
          "name": "stdout",
          "text": [
            "🔍 分析中：3073.TWO (天方能源)\n"
          ]
        },
        {
          "output_type": "stream",
          "name": "stderr",
          "text": [
            "\r[*********************100%***********************]  1 of 1 completed"
          ]
        },
        {
          "output_type": "stream",
          "name": "stdout",
          "text": [
            "\n",
            "✅ 成功分析 35 檔股票，結果已匯出至 'tecka-output.xlsx'\n"
          ]
        },
        {
          "output_type": "stream",
          "name": "stderr",
          "text": [
            "\n"
          ]
        }
      ]
    }
  ]
}